{
 "cells": [
  {
   "cell_type": "markdown",
   "id": "9c0f3fa0",
   "metadata": {},
   "source": [
    "# Сегментация изображений"
   ]
  },
  {
   "cell_type": "markdown",
   "id": "881498f2",
   "metadata": {},
   "source": [
    "## Задача сегментации"
   ]
  },
  {
   "cell_type": "markdown",
   "id": "81a03ec8",
   "metadata": {},
   "source": [
    "Сегментация изображения — задача поиска групп пикселей, каждая из которых характеризует один смысловой объект.\n",
    "\n",
    "Результатом сегментации, как правило, является маска, которая отделяет различные типы объектов.\n",
    "\n",
    "<img src=\"images_seg/segtask0.png\" alt=\"Image segmentation\" style=\"width: 800px; height: 400px;\">\n"
   ]
  },
  {
   "cell_type": "markdown",
   "id": "c3fa16aa",
   "metadata": {},
   "source": [
    "Отличием от задачи классификации является то, что результат относится не ко всему изображению, а к его различным фрагментам."
   ]
  },
  {
   "cell_type": "markdown",
   "id": "537c7d6d",
   "metadata": {},
   "source": [
    "## Подготовка данных"
   ]
  },
  {
   "cell_type": "markdown",
   "id": "6a6327e5",
   "metadata": {},
   "source": [
    "Соответственно задаче, нам понадобится разметка набора данных. Эта разметка должна обеспечить идентификацию местоположения объекта на изображении. Задача очень похожа на задачу классификации, только надо для каждого пикселя сказать, где у нас какой объект. При этом можно провести аналоги между бинарной и многоклассовой классификацией:\n",
    "* определить, где объект, а где фон\n",
    "* определить положение нескольких разнотипных объектов на изображении\n",
    "\n",
    "Чтобы обучить нейросетевую модель, необходимо разметить данные. Разметка заключается в построении маски, похожей на показанную на рисунке ниже. Маска позволяет выделить интересующие объекты.\n",
    "\n",
    "<img src=\"images_seg/segtask1.png\" alt=\"Image segmentation\" style=\"width: 800px; height: 400px;\">\n",
    "\n",
    "Если рассмотреть маску ближе, то мы увидим, что каждой точке соответствует значение, обозначающее класс:\n",
    "\n",
    "<img src=\"images_seg/mask.png\" alt=\"Image segmentation\" style=\"width: 800px; height: 400px;\">"
   ]
  },
  {
   "cell_type": "markdown",
   "id": "2361a4ae",
   "metadata": {},
   "source": [
    "## Сегментация с помощью полосвязной свёрточной нейросети"
   ]
  },
  {
   "cell_type": "markdown",
   "id": "85ece122",
   "metadata": {},
   "source": [
    "Для сегментации применяются различные свёрточные нейронные сети:\n",
    "* FCNN - полносвязная CNN\n",
    "* U-Net\n",
    "* ResNet\n",
    "* R-FCN\n",
    "* Mask R-CNN\n",
    "* и др."
   ]
  },
  {
   "cell_type": "markdown",
   "id": "f6e716e1",
   "metadata": {},
   "source": [
    "## Архитектура U-Net"
   ]
  },
  {
   "cell_type": "markdown",
   "id": "3d7c476e",
   "metadata": {},
   "source": [
    "## Задание"
   ]
  },
  {
   "cell_type": "code",
   "execution_count": null,
   "id": "20019744",
   "metadata": {},
   "outputs": [],
   "source": []
  }
 ],
 "metadata": {
  "kernelspec": {
   "display_name": "Python 3 (ipykernel)",
   "language": "python",
   "name": "python3"
  },
  "language_info": {
   "codemirror_mode": {
    "name": "ipython",
    "version": 3
   },
   "file_extension": ".py",
   "mimetype": "text/x-python",
   "name": "python",
   "nbconvert_exporter": "python",
   "pygments_lexer": "ipython3",
   "version": "3.9.15"
  }
 },
 "nbformat": 4,
 "nbformat_minor": 5
}
